{
 "cells": [
  {
   "cell_type": "code",
   "execution_count": null,
   "id": "fa21cbd2-d77d-4ef5-bf59-a710263df25e",
   "metadata": {},
   "outputs": [],
   "source": [
    "#Note this accelerated MD is based on tutorial - https://ambermd.org/tutorials/advanced/tutorial22/index.php"
   ]
  },
  {
   "cell_type": "code",
   "execution_count": 10,
   "id": "552475b5-fd7e-4885-ab10-57d3993b7a5f",
   "metadata": {},
   "outputs": [],
   "source": [
    "import matplotlib.pyplot as plt\n",
    "import os\n",
    "import numpy as np\n",
    "import math\n",
    "import subprocess"
   ]
  },
  {
   "cell_type": "code",
   "execution_count": 11,
   "id": "47482cce-0118-4957-a9f8-315f7bb5be02",
   "metadata": {},
   "outputs": [
    {
     "name": "stdout",
     "output_type": "stream",
     "text": [
      "✅ Cleaned exported bash functions. Subshells will be quiet now.\n"
     ]
    }
   ],
   "source": [
    "import os\n",
    "\n",
    "# Strip out the exported bash functions that break Jupyter subshells\n",
    "for key in list(os.environ):\n",
    "    if key.startswith(\"BASH_FUNC_\"):\n",
    "        del os.environ[key]\n",
    "\n",
    "print(\"✅ Cleaned exported bash functions. Subshells will be quiet now.\")\n"
   ]
  },
  {
   "cell_type": "code",
   "execution_count": 12,
   "id": "723712a8-6ece-4847-a584-d18e553e95bb",
   "metadata": {},
   "outputs": [
    {
     "name": "stdout",
     "output_type": "stream",
     "text": [
      "/panfs/accrepfs.vampire/data/kojetin_lab/Mithun/Covalent_ligand_redone/Accelerated_aMD_Amber\n"
     ]
    },
    {
     "data": {
      "text/plain": [
       "'/panfs/accrepfs.vampire/data/kojetin_lab/Mithun/Covalent_ligand_redone/Accelerated_aMD_Amber'"
      ]
     },
     "execution_count": 12,
     "metadata": {},
     "output_type": "execute_result"
    }
   ],
   "source": [
    "# set working directory for all future cells\n",
    "os.chdir(\"/panfs/accrepfs.vampire/data/kojetin_lab/Mithun/Covalent_ligand_redone/Accelerated_aMD_Amber\")\n",
    "# and check with bash command pwd - note the exclamation mark at the beginning\n",
    "!pwd\n",
    "# or in python\n",
    "os.getcwd()"
   ]
  },
  {
   "cell_type": "code",
   "execution_count": 13,
   "id": "464fda2a-eda0-4b17-88f0-c0efae0b41f3",
   "metadata": {},
   "outputs": [],
   "source": [
    "import os, subprocess\n",
    "\n",
    "def load_amber_env():\n",
    "    \"\"\"Load AmberTools + Amber environment into the Jupyter kernel.\"\"\"\n",
    "    bash_cmd = \"\"\"\n",
    "    module purge\n",
    "    module load StdEnvACCRE/2023\n",
    "    module load gcc/12.3 openmpi/4.1.5 cuda/12.2\n",
    "    module load ambertools/25.0\n",
    "    module load scipy-stack/2025a\n",
    "    module load amber/24\n",
    "    env\n",
    "    \"\"\"\n",
    "    env_output = subprocess.check_output([\"bash\", \"-c\", bash_cmd], text=True)\n",
    "    for line in env_output.splitlines():\n",
    "        if \"=\" in line:\n",
    "            k, v = line.split(\"=\", 1)\n",
    "            os.environ[k] = v\n",
    "    print(\"✅ Amber environment loaded into Jupyter kernel.\")\n"
   ]
  },
  {
   "cell_type": "code",
   "execution_count": 14,
   "id": "702a56bb-7288-43fe-bc6a-151d9c556856",
   "metadata": {
    "scrolled": true
   },
   "outputs": [
    {
     "name": "stderr",
     "output_type": "stream",
     "text": [
      "The following modules were not unloaded:\n",
      "  (Use \"module --force purge\" to unload all):\n",
      "\n",
      "  1) CCconfig        6)  ucx/1.14.1         11) flexiblas/3.3.1\n",
      "  2) gentoo/2023     7)  libfabric/1.18.0   12) imkl/2023.2.0\n",
      "  3) gcccore/.12.3   8)  pmix/4.2.4         13) StdEnvACCRE/2023\n",
      "  4) gcc/12.3        9)  ucc/1.2.0\n",
      "  5) hwloc/2.9.1     10) openmpi/4.1.5\n",
      "Lmod Warning:\n",
      "-------------------------------------------------------------------------------\n",
      "The following dependent module(s) are not currently loaded: scipy-stack/2023b\n",
      "(required by: plumed/2.9.0, ambertools/25.0)\n",
      "-------------------------------------------------------------------------------\n",
      "\n",
      "\n",
      "\n",
      "\n",
      "The following have been reloaded with a version change:\n",
      "  1) ipykernel/2023b => ipykernel/2025a\n",
      "  2) scipy-stack/2023b => scipy-stack/2025a\n",
      "\n"
     ]
    },
    {
     "name": "stdout",
     "output_type": "stream",
     "text": [
      "✅ Amber environment loaded into Jupyter kernel.\n"
     ]
    },
    {
     "name": "stderr",
     "output_type": "stream",
     "text": [
      "Lmod Warning:\n",
      "-------------------------------------------------------------------------------\n",
      "The following dependent module(s) are not currently loaded: scipy-stack/2025a\n",
      "(required by: amber/24)\n",
      "-------------------------------------------------------------------------------\n",
      "\n",
      "\n",
      "\n",
      "\n",
      "Inactive Modules:\n",
      "  1) arrayfire/3.9.0     2) cudnn/8.9.5.29     3) glfw/3.3.8     4) spdlog/1.11.0\n",
      "\n",
      "Due to MODULEPATH changes, the following have been reloaded:\n",
      "  1) ambertools/25.0     2) plumed/2.9.0     3) ucc-cuda/1.2.0     4) ucx-cuda/1.14.1\n",
      "\n",
      "The following have been reloaded with a version change:\n",
      "  1) cuda/12.2 => cuda/12.6\n",
      "  2) cudacore/.12.2.2 => cudacore/.12.6.2\n",
      "  3) ipykernel/2025a => ipykernel/2023b\n",
      "  4) nccl/2.18.3 => nccl/2.26.2\n",
      "  5) scipy-stack/2025a => scipy-stack/2023b\n",
      "\n"
     ]
    }
   ],
   "source": [
    "load_amber_env()"
   ]
  },
  {
   "cell_type": "code",
   "execution_count": 15,
   "id": "299dc944-c8d9-44b1-ad01-ba79efff6189",
   "metadata": {
    "scrolled": true
   },
   "outputs": [
    {
     "name": "stdout",
     "output_type": "stream",
     "text": [
      "/bin/bash: ml: line 1: syntax error: unexpected end of file\n",
      "/bin/bash: error importing function definition for `ml'\n",
      "/bin/bash: module: line 1: syntax error: unexpected end of file\n",
      "/bin/bash: error importing function definition for `module'\n",
      "mkdir: cannot create directory ‘aMD_params’: File exists\n",
      "/panfs/accrepfs.vampire/data/kojetin_lab/Mithun/Covalent_ligand_redone/Accelerated_aMD_Amber/aMD_params\n",
      "/bin/bash: ml: line 1: syntax error: unexpected end of file\n",
      "/bin/bash: error importing function definition for `ml'\n",
      "/bin/bash: module: line 1: syntax error: unexpected end of file\n",
      "/bin/bash: error importing function definition for `module'\n",
      "Processing sander output file (../../Production/rep1/PTR_001.out)...\n"
     ]
    },
    {
     "name": "stderr",
     "output_type": "stream",
     "text": [
      "/cvmfs/soft.computecanada.ca/easybuild/software/2023/x86-64-v3/Compiler/gcccore/ipykernel/2025a/lib/python3.12/site-packages/IPython/core/magics/osm.py:417: UserWarning: This is now an optional IPython functionality, setting dhist requires you to install the `pickleshare` library.\n",
      "  self.shell.db['dhist'] = compress_dhist(dhist)[-100:]\n"
     ]
    },
    {
     "name": "stdout",
     "output_type": "stream",
     "text": [
      "Starting output...\n",
      "Outputing summary.TEMP\n",
      "Outputing summary_avg.TEMP\n",
      "Outputing summary_rms.TEMP\n",
      "Outputing summary.TSOLUTE\n",
      "Outputing summary_avg.TSOLUTE\n",
      "Outputing summary_rms.TSOLUTE\n",
      "Outputing summary.TSOLVENT\n",
      "Outputing summary_avg.TSOLVENT\n",
      "Outputing summary_rms.TSOLVENT\n",
      "Outputing summary.PRES\n",
      "Outputing summary_avg.PRES\n",
      "Outputing summary_rms.PRES\n",
      "Outputing summary.EKCMT\n",
      "Outputing summary_avg.EKCMT\n",
      "Outputing summary_rms.EKCMT\n",
      "Outputing summary.ETOT\n",
      "Outputing summary_avg.ETOT\n",
      "Outputing summary_rms.ETOT\n",
      "Outputing summary.EKTOT\n",
      "Outputing summary_avg.EKTOT\n",
      "Outputing summary_rms.EKTOT\n",
      "Outputing summary.EPTOT\n",
      "Outputing summary_avg.EPTOT\n",
      "Outputing summary_rms.EPTOT\n",
      "Outputing summary.DENSITY\n",
      "Outputing summary_avg.DENSITY\n",
      "Outputing summary_rms.DENSITY\n",
      "Outputing summary.VOLUME\n",
      "Outputing summary_avg.VOLUME\n",
      "Outputing summary_rms.VOLUME\n",
      "Outputing summary.ESCF\n",
      "Outputing summary_avg.ESCF\n",
      "Outputing summary_rms.ESCF\n"
     ]
    }
   ],
   "source": [
    "#Compute average total potential energy and torsional (dihedral) energy\n",
    "!mkdir aMD_params\n",
    "%cd aMD_params\n",
    "!process_mdout.perl ../../Production/rep1/PTR_001.out"
   ]
  },
  {
   "cell_type": "code",
   "execution_count": 17,
   "id": "32a44813-d32d-456a-a9ba-7d21f03ef52b",
   "metadata": {
    "scrolled": true
   },
   "outputs": [
    {
     "name": "stderr",
     "output_type": "stream",
     "text": [
      "bash: ml: line 1: syntax error: unexpected end of file\n",
      "bash: error importing function definition for `ml'\n",
      "bash: module: line 1: syntax error: unexpected end of file\n",
      "bash: error importing function definition for `module'\n"
     ]
    },
    {
     "name": "stdout",
     "output_type": "stream",
     "text": [
      "✅ get_dihed.in file written.\n",
      "\n",
      "CPPTRAJ: Trajectory Analysis. V6.29.13 (AmberTools) OpenMP\n",
      "    ___  ___  ___  ___\n",
      "     | \\/ | \\/ | \\/ | \n",
      "    _|_/\\_|_/\\_|_/\\_|_\n",
      "\n",
      "| 2 OpenMP threads available.\n",
      "| Date/time: 09/15/25 03:43:44\n",
      "| Available memory: 216.272 GB\n",
      "\n",
      "INPUT: Reading input from 'get_dihed.in'\n",
      "  [parm ../../Minimization/prepinHMR.prmtop]\n",
      "\tReading '../../Minimization/prepinHMR.prmtop' as Amber Topology\n",
      "\tRadius Set: modified Bondi radii (mbondi)\n",
      "  [trajin ../../Production/rep1/md_prod1_001.nc]\n",
      "\tReading '../../Production/rep1/md_prod1_001.nc' as Amber NetCDF\n",
      "  [energy DIHED out dihed.dat]\n",
      "    ENERGY: Calculating energy for atoms in mask '*'\n",
      "\tCalculating terms: 'Bonds' 'Angles' 'Dihedrals' '1-4 VDW' '1-4 Elec.' 'VDW' 'Elec.' 'Kinetic' 'Total'\n",
      "\tElectrostatics method: Simple\n",
      "\tIf forces and velocities present KE will be calculated assuming\n",
      "\tvelocities are a half step ahead of forces; if only velocities\n",
      "\tpresent KE will be calculated assuming velocities are on-step.\n",
      "\tTime step for KE calculation if forces present: 0.001 ps\n",
      "---------- RUN BEGIN -------------------------------------------------\n",
      "\n",
      "PARAMETER FILES (1 total):\n",
      " 0: prepinHMR.prmtop, 45940 atoms, 14087 res, box: Truncated octahedron, 13813 mol, 13808 solvent\n",
      "\n",
      "INPUT TRAJECTORIES (1 total):\n",
      " 0: 'md_prod1_001.nc' is a NetCDF (NetCDF3) AMBER trajectory with coordinates, time, box, Parm prepinHMR.prmtop (Truncated octahedron box) (reading 10000 of 10000)\n",
      "  Coordinate processing will occur on 10000 frames.\n",
      "\n",
      "BEGIN TRAJECTORY PROCESSING:\n",
      ".....................................................\n",
      "ACTION SETUP FOR PARM 'prepinHMR.prmtop' (1 actions):\n",
      "  0: [energy DIHED out dihed.dat]\n",
      "\tMask [*] corresponds to 45940 atoms.\n",
      "\tMemory used by full exclusion list: 264.880 kB\n",
      "Warning: Coordinates have no velocities - kinetic energy will be zero.\n",
      "----- md_prod1_001.nc (1-10000, 1) -----\n",
      " 0% Process was interrupted.\n"
     ]
    },
    {
     "ename": "CalledProcessError",
     "evalue": "Command 'b'# Step 1: Write get_dihed.in to get the dihed.dat \\ncat > get_dihed.in <<EOF\\nparm ../../Minimization/prepinHMR.prmtop\\ntrajin ../../Production/rep1/md_prod1_001.nc\\nenergy DIHED out dihed.dat\\nEOF\\n\\necho \"\\xe2\\x9c\\x85 get_dihed.in file written.\"\\n\\n# Step 2: Run cpptraj\\ncpptraj -i get_dihed.in\\n'' died with <Signals.SIGINT: 2>.",
     "output_type": "error",
     "traceback": [
      "\u001b[0;31m---------------------------------------------------------------------------\u001b[0m",
      "\u001b[0;31mCalledProcessError\u001b[0m                        Traceback (most recent call last)",
      "Cell \u001b[0;32mIn[17], line 1\u001b[0m\n\u001b[0;32m----> 1\u001b[0m \u001b[43mget_ipython\u001b[49m\u001b[43m(\u001b[49m\u001b[43m)\u001b[49m\u001b[38;5;241;43m.\u001b[39;49m\u001b[43mrun_cell_magic\u001b[49m\u001b[43m(\u001b[49m\u001b[38;5;124;43m'\u001b[39;49m\u001b[38;5;124;43mbash\u001b[39;49m\u001b[38;5;124;43m'\u001b[39;49m\u001b[43m,\u001b[49m\u001b[43m \u001b[49m\u001b[38;5;124;43m'\u001b[39;49m\u001b[38;5;124;43m'\u001b[39;49m\u001b[43m,\u001b[49m\u001b[43m \u001b[49m\u001b[38;5;124;43m'\u001b[39;49m\u001b[38;5;124;43m# Step 1: Write get_dihed.in to get the dihed.dat \u001b[39;49m\u001b[38;5;130;43;01m\\n\u001b[39;49;00m\u001b[38;5;124;43mcat > get_dihed.in <<EOF\u001b[39;49m\u001b[38;5;130;43;01m\\n\u001b[39;49;00m\u001b[38;5;124;43mparm ../../Minimization/prepinHMR.prmtop\u001b[39;49m\u001b[38;5;130;43;01m\\n\u001b[39;49;00m\u001b[38;5;124;43mtrajin ../../Production/rep1/md_prod1_001.nc\u001b[39;49m\u001b[38;5;130;43;01m\\n\u001b[39;49;00m\u001b[38;5;124;43menergy DIHED out dihed.dat\u001b[39;49m\u001b[38;5;130;43;01m\\n\u001b[39;49;00m\u001b[38;5;124;43mEOF\u001b[39;49m\u001b[38;5;130;43;01m\\n\u001b[39;49;00m\u001b[38;5;130;43;01m\\n\u001b[39;49;00m\u001b[38;5;124;43mecho \u001b[39;49m\u001b[38;5;124;43m\"\u001b[39;49m\u001b[38;5;124;43m✅ get_dihed.in file written.\u001b[39;49m\u001b[38;5;124;43m\"\u001b[39;49m\u001b[38;5;130;43;01m\\n\u001b[39;49;00m\u001b[38;5;130;43;01m\\n\u001b[39;49;00m\u001b[38;5;124;43m# Step 2: Run cpptraj\u001b[39;49m\u001b[38;5;130;43;01m\\n\u001b[39;49;00m\u001b[38;5;124;43mcpptraj -i get_dihed.in\u001b[39;49m\u001b[38;5;130;43;01m\\n\u001b[39;49;00m\u001b[38;5;124;43m'\u001b[39;49m\u001b[43m)\u001b[49m\n",
      "File \u001b[0;32m/cvmfs/soft.computecanada.ca/easybuild/software/2023/x86-64-v3/Compiler/gcccore/ipykernel/2025a/lib/python3.12/site-packages/IPython/core/interactiveshell.py:2543\u001b[0m, in \u001b[0;36mInteractiveShell.run_cell_magic\u001b[0;34m(self, magic_name, line, cell)\u001b[0m\n\u001b[1;32m   2541\u001b[0m \u001b[38;5;28;01mwith\u001b[39;00m \u001b[38;5;28mself\u001b[39m\u001b[38;5;241m.\u001b[39mbuiltin_trap:\n\u001b[1;32m   2542\u001b[0m     args \u001b[38;5;241m=\u001b[39m (magic_arg_s, cell)\n\u001b[0;32m-> 2543\u001b[0m     result \u001b[38;5;241m=\u001b[39m \u001b[43mfn\u001b[49m\u001b[43m(\u001b[49m\u001b[38;5;241;43m*\u001b[39;49m\u001b[43margs\u001b[49m\u001b[43m,\u001b[49m\u001b[43m \u001b[49m\u001b[38;5;241;43m*\u001b[39;49m\u001b[38;5;241;43m*\u001b[39;49m\u001b[43mkwargs\u001b[49m\u001b[43m)\u001b[49m\n\u001b[1;32m   2545\u001b[0m \u001b[38;5;66;03m# The code below prevents the output from being displayed\u001b[39;00m\n\u001b[1;32m   2546\u001b[0m \u001b[38;5;66;03m# when using magics with decorator @output_can_be_silenced\u001b[39;00m\n\u001b[1;32m   2547\u001b[0m \u001b[38;5;66;03m# when the last Python token in the expression is a ';'.\u001b[39;00m\n\u001b[1;32m   2548\u001b[0m \u001b[38;5;28;01mif\u001b[39;00m \u001b[38;5;28mgetattr\u001b[39m(fn, magic\u001b[38;5;241m.\u001b[39mMAGIC_OUTPUT_CAN_BE_SILENCED, \u001b[38;5;28;01mFalse\u001b[39;00m):\n",
      "File \u001b[0;32m/cvmfs/soft.computecanada.ca/easybuild/software/2023/x86-64-v3/Compiler/gcccore/ipykernel/2025a/lib/python3.12/site-packages/IPython/core/magics/script.py:159\u001b[0m, in \u001b[0;36mScriptMagics._make_script_magic.<locals>.named_script_magic\u001b[0;34m(line, cell)\u001b[0m\n\u001b[1;32m    157\u001b[0m \u001b[38;5;28;01melse\u001b[39;00m:\n\u001b[1;32m    158\u001b[0m     line \u001b[38;5;241m=\u001b[39m script\n\u001b[0;32m--> 159\u001b[0m \u001b[38;5;28;01mreturn\u001b[39;00m \u001b[38;5;28;43mself\u001b[39;49m\u001b[38;5;241;43m.\u001b[39;49m\u001b[43mshebang\u001b[49m\u001b[43m(\u001b[49m\u001b[43mline\u001b[49m\u001b[43m,\u001b[49m\u001b[43m \u001b[49m\u001b[43mcell\u001b[49m\u001b[43m)\u001b[49m\n",
      "File \u001b[0;32m/cvmfs/soft.computecanada.ca/easybuild/software/2023/x86-64-v3/Compiler/gcccore/ipykernel/2025a/lib/python3.12/site-packages/IPython/core/magics/script.py:327\u001b[0m, in \u001b[0;36mScriptMagics.shebang\u001b[0;34m(self, line, cell)\u001b[0m\n\u001b[1;32m    325\u001b[0m     \u001b[38;5;28mprint\u001b[39m(\u001b[38;5;124m\"\u001b[39m\u001b[38;5;124mError while terminating subprocess (pid=\u001b[39m\u001b[38;5;132;01m%i\u001b[39;00m\u001b[38;5;124m): \u001b[39m\u001b[38;5;132;01m%s\u001b[39;00m\u001b[38;5;124m\"\u001b[39m \u001b[38;5;241m%\u001b[39m (p\u001b[38;5;241m.\u001b[39mpid, e))\n\u001b[1;32m    326\u001b[0m \u001b[38;5;28;01mif\u001b[39;00m args\u001b[38;5;241m.\u001b[39mraise_error:\n\u001b[0;32m--> 327\u001b[0m     \u001b[38;5;28;01mraise\u001b[39;00m CalledProcessError(p\u001b[38;5;241m.\u001b[39mreturncode, cell) \u001b[38;5;28;01mfrom\u001b[39;00m\u001b[38;5;250m \u001b[39m\u001b[38;5;28;01mNone\u001b[39;00m\n\u001b[1;32m    328\u001b[0m \u001b[38;5;28;01melse\u001b[39;00m:\n\u001b[1;32m    329\u001b[0m     \u001b[38;5;28;01mreturn\u001b[39;00m\n",
      "\u001b[0;31mCalledProcessError\u001b[0m: Command 'b'# Step 1: Write get_dihed.in to get the dihed.dat \\ncat > get_dihed.in <<EOF\\nparm ../../Minimization/prepinHMR.prmtop\\ntrajin ../../Production/rep1/md_prod1_001.nc\\nenergy DIHED out dihed.dat\\nEOF\\n\\necho \"\\xe2\\x9c\\x85 get_dihed.in file written.\"\\n\\n# Step 2: Run cpptraj\\ncpptraj -i get_dihed.in\\n'' died with <Signals.SIGINT: 2>."
     ]
    }
   ],
   "source": [
    "%%bash\n",
    "# Step 1: Write get_dihed.in to get the dihed.dat \n",
    "cat > get_dihed.in <<EOF\n",
    "parm ../../Minimization/prepinHMR.prmtop\n",
    "trajin ../../Production/rep1/md_prod1_001.nc\n",
    "energy DIHED out dihed.dat\n",
    "EOF\n",
    "\n",
    "echo \"✅ get_dihed.in file written.\"\n",
    "\n",
    "# Step 2: Run cpptraj\n",
    "cpptraj -i get_dihed.in"
   ]
  },
  {
   "cell_type": "code",
   "execution_count": 18,
   "id": "4a7b2f2d-511c-4bab-832b-8bbb12825dd4",
   "metadata": {
    "scrolled": true
   },
   "outputs": [
    {
     "name": "stderr",
     "output_type": "stream",
     "text": [
      "bash: ml: line 1: syntax error: unexpected end of file\n",
      "bash: error importing function definition for `ml'\n",
      "bash: module: line 1: syntax error: unexpected end of file\n",
      "bash: error importing function definition for `module'\n"
     ]
    },
    {
     "name": "stdout",
     "output_type": "stream",
     "text": [
      "✅ get_dihed.in file written (reading every 10th frame, dihedral term only).\n",
      "\n",
      "CPPTRAJ: Trajectory Analysis. V6.29.13 (AmberTools) OpenMP\n",
      "    ___  ___  ___  ___\n",
      "     | \\/ | \\/ | \\/ | \n",
      "    _|_/\\_|_/\\_|_/\\_|_\n",
      "\n",
      "| 4 OpenMP threads available.\n",
      "| Date/time: 09/15/25 03:48:20\n",
      "| Available memory: 216.206 GB\n",
      "\n",
      "INPUT: Reading input from 'get_dihed.in'\n",
      "  [parm ../../Minimization/prepinHMR.prmtop]\n",
      "\tReading '../../Minimization/prepinHMR.prmtop' as Amber Topology\n",
      "\tRadius Set: modified Bondi radii (mbondi)\n",
      "  [trajin ../../Production/rep1/md_prod1_001.nc 1 last 10]\n",
      "\tReading '../../Production/rep1/md_prod1_001.nc' as Amber NetCDF\n",
      "  [energy dihedral out dihed.dat]\n",
      "    ENERGY: Calculating energy for atoms in mask '*'\n",
      "\tCalculating terms: 'Dihedrals'\n",
      "---------- RUN BEGIN -------------------------------------------------\n",
      "\n",
      "PARAMETER FILES (1 total):\n",
      " 0: prepinHMR.prmtop, 45940 atoms, 14087 res, box: Truncated octahedron, 13813 mol, 13808 solvent\n",
      "\n",
      "INPUT TRAJECTORIES (1 total):\n",
      " 0: 'md_prod1_001.nc' is a NetCDF (NetCDF3) AMBER trajectory with coordinates, time, box, Parm prepinHMR.prmtop (Truncated octahedron box) (reading 1000 of 10000)\n",
      "  Coordinate processing will occur on 1000 frames.\n",
      "\n",
      "BEGIN TRAJECTORY PROCESSING:\n",
      ".....................................................\n",
      "ACTION SETUP FOR PARM 'prepinHMR.prmtop' (1 actions):\n",
      "  0: [energy dihedral out dihed.dat]\n",
      "\tMask [*] corresponds to 45940 atoms.\n",
      "----- md_prod1_001.nc (1-10000, 10) -----\n",
      " 0% 10% 20% 30% 40% 50% 60% 70% 80% 90% 100% Complete.\n",
      "\n",
      "Read 1000 frames and processed 1000 frames.\n",
      "TIME: Avg. throughput= 20.3550 frames / second.\n",
      "\n",
      "ACTION OUTPUT:\n",
      "Timing for energy: 'ENE_00001' ('*')\n",
      "TIME: Total: 1.9235 s\n",
      "TIME:\tTORSION     : 1.9227 s ( 99.96%)\n",
      "TIME: Analyses took 0.0000 seconds.\n",
      "\n",
      "DATASETS (1 total):\n",
      "\tENE_00001[dih] \"ENE_00001[dih]\" (double), size is 1000 (8.000 kB)\n",
      "    Total data set memory usage is at least 8.000 kB\n",
      "\n",
      "DATAFILES (1 total):\n",
      "  dihed.dat (Standard Data File):  ENE_00001[dih]\n",
      "\n",
      "RUN TIMING:\n",
      "TIME:\t\tInit               : 0.0000 s (  0.00%)\n",
      "TIME:\t\tTrajectory Process : 49.1280 s ( 99.97%)\n",
      "TIME:\t\tAction Post        : 0.0000 s (  0.00%)\n",
      "TIME:\t\tAnalysis           : 0.0000 s (  0.00%)\n",
      "TIME:\t\tData File Write    : 0.0140 s (  0.03%)\n",
      "TIME:\t\tOther              : 0.0000 s (  0.00%)\n",
      "TIME:\tRun Total 49.1420 s\n",
      "---------- RUN END ---------------------------------------------------\n",
      "TIME: Total execution time: 49.2132 seconds.\n",
      "--------------------------------------------------------------------------------\n",
      "To cite CPPTRAJ use:\n",
      "Daniel R. Roe and Thomas E. Cheatham, III, \"PTRAJ and CPPTRAJ: Software for\n",
      "  Processing and Analysis of Molecular Dynamics Trajectory Data\". J. Chem.\n",
      "  Theory Comput., 2013, 9 (7), pp 3084-3095.\n",
      "\n"
     ]
    }
   ],
   "source": [
    "%%bash\n",
    "cat > get_dihed.in <<EOF\n",
    "parm ../../Minimization/prepinHMR.prmtop\n",
    "trajin ../../Production/rep1/md_prod1_001.nc 1 last 10\n",
    "energy dihedral out dihed.dat\n",
    "EOF\n",
    "\n",
    "echo \"✅ get_dihed.in file written (reading every 10th frame, dihedral term only).\"\n",
    "\n",
    "export OMP_NUM_THREADS=4\n",
    "cpptraj -i get_dihed.in"
   ]
  },
  {
   "cell_type": "code",
   "execution_count": 22,
   "id": "59e2cf3d-940d-44fb-adef-2e1d49ffb5c0",
   "metadata": {},
   "outputs": [
    {
     "name": "stdout",
     "output_type": "stream",
     "text": [
      "/bin/bash: ml: line 1: syntax error: unexpected end of file\n",
      "/bin/bash: error importing function definition for `ml'\n",
      "/bin/bash: module: line 1: syntax error: unexpected end of file\n",
      "/bin/bash: error importing function definition for `module'\n",
      "Average dihedral energy = 3598.75 kcal/mol\n",
      "/bin/bash: ml: line 1: syntax error: unexpected end of file\n",
      "/bin/bash: error importing function definition for `ml'\n",
      "/bin/bash: module: line 1: syntax error: unexpected end of file\n",
      "/bin/bash: error importing function definition for `module'\n",
      "EthreshP: E(tot)=   100000.000     -135987.7125\n"
     ]
    }
   ],
   "source": [
    "#Your dihed.dat file contains all energy components per frame — \n",
    "#but for aMD we only want the dihedral term, which is the DIHED[dih] column (the third numeric column).\n",
    "\n",
    "#Get Average Dihedral Energy\n",
    "!grep -v \"#\" dihed.dat | awk '{s+=$2; n++} END{print \"Average dihedral energy =\", s/n, \"kcal/mol\"}'\n",
    "!echo -n \"EthreshP: E(tot)= \"; cat summary_avg.EPTOT"
   ]
  },
  {
   "cell_type": "code",
   "execution_count": 23,
   "id": "46f6d393-1c23-4990-bbee-d0a0c65c9681",
   "metadata": {
    "scrolled": true
   },
   "outputs": [
    {
     "name": "stderr",
     "output_type": "stream",
     "text": [
      "bash: ml: line 1: syntax error: unexpected end of file\n",
      "bash: error importing function definition for `ml'\n",
      "bash: module: line 1: syntax error: unexpected end of file\n",
      "bash: error importing function definition for `module'\n"
     ]
    },
    {
     "name": "stdout",
     "output_type": "stream",
     "text": [
      "\n",
      "CPPTRAJ: Trajectory Analysis. V6.29.13 (AmberTools) OpenMP\n",
      "    ___  ___  ___  ___\n",
      "     | \\/ | \\/ | \\/ | \n",
      "    _|_/\\_|_/\\_|_/\\_|_\n",
      "\n",
      "| 2 OpenMP threads available.\n",
      "| Date/time: 09/15/25 03:53:29\n",
      "| Available memory: 210.722 GB\n",
      "\n",
      "\tReading '../../Minimization/prepinHMR.prmtop' as Amber Topology\n",
      "\tRadius Set: modified Bondi radii (mbondi)\n",
      "INPUT: Reading input from 'STDIN'\n",
      "  [parminfo]\n",
      "\tTopology prepinHMR.prmtop contains 45940 atoms.\n",
      "\t\tTitle: default_name\n",
      "\t\tOriginal filename: ../../Minimization/prepinHMR.prmtop\n",
      "\t\t14087 residues.\n",
      "\t\t13813 molecules.\n",
      "\t\t45977 bonds (43708 to H, 2269 other).\n",
      "\t\t8288 angles (5227 with H, 3061 other).\n",
      "\t\t20111 dihedrals (10288 with H, 9823 other).\n",
      "\t\tBox: Truncated octahedron\n",
      "\t\t13808 solvent molecules.\n",
      "\t\tGB radii set: modified Bondi radii (mbondi)\n",
      "\t\tNon-bonded parameters are present.\n",
      "TIME: Total execution time: 0.0541 seconds.\n",
      "--------------------------------------------------------------------------------\n",
      "To cite CPPTRAJ use:\n",
      "Daniel R. Roe and Thomas E. Cheatham, III, \"PTRAJ and CPPTRAJ: Software for\n",
      "  Processing and Analysis of Molecular Dynamics Trajectory Data\". J. Chem.\n",
      "  Theory Comput., 2013, 9 (7), pp 3084-3095.\n",
      "\n"
     ]
    }
   ],
   "source": [
    "%%bash\n",
    "cpptraj -p ../../Minimization/prepinHMR.prmtop <<EOF\n",
    "parminfo\n",
    "EOF"
   ]
  },
  {
   "cell_type": "code",
   "execution_count": 24,
   "id": "961e5025-3697-4a78-aa30-0166868bed56",
   "metadata": {},
   "outputs": [
    {
     "name": "stdin",
     "output_type": "stream",
     "text": [
      "Enter average total potential energy (E_tot) [kcal/mol]:  -135987.7125\n",
      "Enter total number of atoms in system (M):  45940\n",
      "Enter average dihedral energy (E_dih) [kcal/mol]:  3598.75\n",
      "Enter number of protein residues (Nres):  275\n"
     ]
    },
    {
     "name": "stdout",
     "output_type": "stream",
     "text": [
      "\n",
      "=== aMD Parameter Calculation ===\n",
      "a) EthreshP: E(tot)= -135988 kcal mol-1 + (0.16kcal*mol-1 atom-1 * 45940 atoms) = -128637 kcal mol-1\n",
      "\n",
      "b) alphaP: Alpha(tot)= (0.16kcal mol-1 atom-1 * 45940 atoms) = 7350.4 kcal mol-1\n",
      "\n",
      "c) EthreshD: E(dih)=3599 kcal mol-1 + (4kcal mol-1 residue-1 * 275 solute residues) = 4699 kcal mol-1\n",
      "\n",
      "d) alphaD: Alpha(dih)=(1/5)*(4kcal mol-1 residues-1 * 275 solute residues) = 220.0 kcal mol-1\n"
     ]
    }
   ],
   "source": [
    "# aMD Parameter Report Generator (Python version)\n",
    "ETOT = float(input(\"Enter average total potential energy (E_tot) [kcal/mol]: \"))\n",
    "M = int(input(\"Enter total number of atoms in system (M): \"))\n",
    "EDIH = float(input(\"Enter average dihedral energy (E_dih) [kcal/mol]: \"))\n",
    "NRES = int(input(\"Enter number of protein residues (Nres): \"))\n",
    "\n",
    "ALPHAP = 0.16 * M\n",
    "ETHRESHP = ETOT + ALPHAP\n",
    "ETHRESHD = EDIH + 4 * NRES\n",
    "ALPHAD = (4 * NRES) / 5\n",
    "\n",
    "print(\"\\n=== aMD Parameter Calculation ===\")\n",
    "print(f\"a) EthreshP: E(tot)= {ETOT:.0f} kcal mol-1 + (0.16kcal*mol-1 atom-1 * {M} atoms) = {ETHRESHP:.0f} kcal mol-1\\n\")\n",
    "print(f\"b) alphaP: Alpha(tot)= (0.16kcal mol-1 atom-1 * {M} atoms) = {ALPHAP:.1f} kcal mol-1\\n\")\n",
    "print(f\"c) EthreshD: E(dih)={EDIH:.0f} kcal mol-1 + (4kcal mol-1 residue-1 * {NRES} solute residues) = {ETHRESHD:.0f} kcal mol-1\\n\")\n",
    "print(f\"d) alphaD: Alpha(dih)=(1/5)*(4kcal mol-1 residues-1 * {NRES} solute residues) = {ALPHAD:.1f} kcal mol-1\")\n"
   ]
  },
  {
   "cell_type": "code",
   "execution_count": 32,
   "id": "a1b60e2b-9b54-41e9-b9c4-95ae6d8fc47f",
   "metadata": {},
   "outputs": [
    {
     "name": "stdout",
     "output_type": "stream",
     "text": [
      "/panfs/accrepfs.vampire/data/kojetin_lab/Mithun/Covalent_ligand_redone/Accelerated_aMD_Amber\n",
      "/bin/bash: ml: line 1: syntax error: unexpected end of file\n",
      "/bin/bash: error importing function definition for `ml'\n",
      "/bin/bash: module: line 1: syntax error: unexpected end of file\n",
      "/bin/bash: error importing function definition for `module'\n",
      "/panfs/accrepfs.vampire/data/kojetin_lab/Mithun/Covalent_ligand_redone/Accelerated_aMD_Amber/Production_aMD\n"
     ]
    }
   ],
   "source": [
    "%cd ../\n",
    "!mkdir Production_aMD\n",
    "%cd Production_aMD"
   ]
  },
  {
   "cell_type": "code",
   "execution_count": 56,
   "id": "28fc7fcf-f52f-432a-acd2-fc89c9a23109",
   "metadata": {},
   "outputs": [
    {
     "name": "stdout",
     "output_type": "stream",
     "text": [
      "✅ prod1.in.start file written successfully:\n",
      "========================================\n",
      " MD explicit solvent heavy atom no rest shake dt 0.002 total is 100 nanoseconds\n",
      " &cntrl\n",
      "  imin = 0, nstlim = 50000000, dt=0.002,\n",
      "  ntx = 1, irest = 0,\n",
      "  ntwx = 5000, ioutfm = 1, ntxo = 2, ntpr = 10000, ntwr = 500000,\n",
      "  iwrap = 1, nscm = 1000,\n",
      "  ntc = 2, ntf = 2, ntb = 2, cut = 8.0,\n",
      "  ntt = 3, ig = -1, gamma_ln = 3, temp0 = 310, tempi = 310,\n",
      "  ntp = 1, taup = 2.0, barostat = 2,\n",
      "  igb = 0, saltcon = 0.0,\n",
      "  ntr = 0,\n",
      "  iamd=3,\n",
      "  ethreshd=4698.75, alphad=220.0,\n",
      "  ethreshp=-128637.3125, alphap=7350.400000000001,\n",
      " /\n",
      "\n"
     ]
    }
   ],
   "source": [
    "# Note that Ive changed dt to 0.002 and nstlim = 50000000; total time = 100ns still. Did this since 0.004 was unstable with aMD\n",
    "#changed ntwx = 5000 (prints co-ordinates every 10ps, ntpr = 10000 - writes energy every 20ps and ntwr = 500000 - writes restart file every 1ns\n",
    "\n",
    "amd_content = f\"\"\" MD explicit solvent heavy atom no rest shake dt 0.002 total is 100 nanoseconds\n",
    " &cntrl\n",
    "  imin = 0, nstlim = 50000000, dt=0.002,\n",
    "  ntx = 1, irest = 0,\n",
    "  ntwx = 5000, ioutfm = 1, ntxo = 2, ntpr = 10000, ntwr = 500000,\n",
    "  iwrap = 1, nscm = 1000,\n",
    "  ntc = 2, ntf = 2, ntb = 2, cut = 8.0,\n",
    "  ntt = 3, ig = -1, gamma_ln = 3, temp0 = 310, tempi = 310,\n",
    "  ntp = 1, taup = 2.0, barostat = 2,\n",
    "  igb = 0, saltcon = 0.0,\n",
    "  ntr = 0,\n",
    "  iamd=3,\n",
    "  ethreshd={ETHRESHD}, alphad={ALPHAD},\n",
    "  ethreshp={ETHRESHP}, alphap={ALPHAP},\n",
    " /\n",
    "\"\"\"\n",
    "\n",
    "with open(\"prod1.in.start\", \"w\") as f:\n",
    "    f.write(amd_content)\n",
    "\n",
    "print(\"✅ prod1.in.start file written successfully:\")\n",
    "print(\"=\"*40)\n",
    "print(amd_content)\n"
   ]
  },
  {
   "cell_type": "code",
   "execution_count": 57,
   "id": "1c65be7a-f4ff-4371-a314-28c872d1f8b8",
   "metadata": {},
   "outputs": [
    {
     "name": "stdout",
     "output_type": "stream",
     "text": [
      "✅ prod1.in file written successfully:\n",
      "========================================\n",
      " MD explicit solvent heavy atom no rest shake dt 0.002 total is 100 nanoseconds\n",
      " &cntrl\n",
      "  imin = 0, nstlim = 50000000, dt=0.002,\n",
      "  ntx = 5, irest = 1,\n",
      "  ntwx = 5000, ioutfm = 1, ntxo = 2, ntpr = 10000, ntwr = 500000,\n",
      "  iwrap = 1, nscm = 1000,\n",
      "  ntc = 2, ntf = 2, ntb = 2, cut = 8.0,\n",
      "  ntt = 3, ig = -1, gamma_ln = 3, temp0 = 310, tempi = 310,\n",
      "  ntp = 1, taup = 2.0, barostat = 2,\n",
      "  igb = 0, saltcon = 0.0,\n",
      "  ntr = 0,\n",
      "  iamd=3,\n",
      "  ethreshd=4698.75, alphad=220.0,\n",
      "  ethreshp=-128637.3125, alphap=7350.400000000001,\n",
      " /\n",
      "\n"
     ]
    }
   ],
   "source": [
    "# Note that Ive changed dt to 0.002 and nstlim = 50000000; total time = 100ns still. Did this since 0.004 was unstable with aMD\n",
    "#changed ntwx = 5000 (prints co-ordinates every 10ps, ntpr = 10000 - writes energy every 20ps and ntwr = 500000 - writes restart file every 1ns\n",
    "\n",
    "amd_content = f\"\"\" MD explicit solvent heavy atom no rest shake dt 0.002 total is 100 nanoseconds\n",
    " &cntrl\n",
    "  imin = 0, nstlim = 50000000, dt=0.002,\n",
    "  ntx = 5, irest = 1,\n",
    "  ntwx = 5000, ioutfm = 1, ntxo = 2, ntpr = 10000, ntwr = 500000,\n",
    "  iwrap = 1, nscm = 1000,\n",
    "  ntc = 2, ntf = 2, ntb = 2, cut = 8.0,\n",
    "  ntt = 3, ig = -1, gamma_ln = 3, temp0 = 310, tempi = 310,\n",
    "  ntp = 1, taup = 2.0, barostat = 2,\n",
    "  igb = 0, saltcon = 0.0,\n",
    "  ntr = 0,\n",
    "  iamd=3,\n",
    "  ethreshd={ETHRESHD}, alphad={ALPHAD},\n",
    "  ethreshp={ETHRESHP}, alphap={ALPHAP},\n",
    " /\n",
    "\"\"\"\n",
    "\n",
    "with open(\"prod1.in\", \"w\") as f:\n",
    "    f.write(amd_content)\n",
    "\n",
    "print(\"✅ prod1.in file written successfully:\")\n",
    "print(\"=\"*40)\n",
    "print(amd_content)\n"
   ]
  },
  {
   "cell_type": "code",
   "execution_count": 50,
   "id": "dc8b2b00-f762-452c-b584-f0fea5f7ad5a",
   "metadata": {},
   "outputs": [
    {
     "name": "stdout",
     "output_type": "stream",
     "text": [
      "/bin/bash: ml: line 1: syntax error: unexpected end of file\n",
      "/bin/bash: error importing function definition for `ml'\n",
      "/bin/bash: module: line 1: syntax error: unexpected end of file\n",
      "/bin/bash: error importing function definition for `module'\n",
      "^C\n"
     ]
    }
   ],
   "source": [
    "#Testing to see if it works \n",
    "!pmemd.cuda -O -i prod1.in.start -c ../../Minimization/step9.rst7 -p ../../Minimization/prepinHMR.prmtop -o PTR_001.out -x md_prod1_001.nc -r md_prod1_001.rst -inf md_prod1.mdinfo"
   ]
  },
  {
   "cell_type": "code",
   "execution_count": 55,
   "id": "8faab306-4364-4e70-b5f2-fe94f97755be",
   "metadata": {},
   "outputs": [],
   "source": [
    "#Note dt had to be reduced to smaller time steps, dt = 0.004 was too aggresive changed it to 0.002 and it works fine"
   ]
  },
  {
   "cell_type": "code",
   "execution_count": null,
   "id": "9dbe45e0-688f-4317-b060-43c51062f456",
   "metadata": {},
   "outputs": [],
   "source": []
  }
 ],
 "metadata": {
  "kernelspec": {
   "display_name": "Python 3 (ipykernel)",
   "language": "python",
   "name": "python3"
  },
  "language_info": {
   "codemirror_mode": {
    "name": "ipython",
    "version": 3
   },
   "file_extension": ".py",
   "mimetype": "text/x-python",
   "name": "python",
   "nbconvert_exporter": "python",
   "pygments_lexer": "ipython3",
   "version": "3.12.4"
  }
 },
 "nbformat": 4,
 "nbformat_minor": 5
}
