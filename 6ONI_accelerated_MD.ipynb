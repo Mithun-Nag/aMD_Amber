{
 "cells": [
  {
   "cell_type": "code",
   "execution_count": null,
   "id": "fa21cbd2-d77d-4ef5-bf59-a710263df25e",
   "metadata": {},
   "outputs": [],
   "source": [
    "#Note this accelerated MD is based on tutorial - https://ambermd.org/tutorials/advanced/tutorial22/index.php"
   ]
  },
  {
   "cell_type": "code",
   "execution_count": 10,
   "id": "552475b5-fd7e-4885-ab10-57d3993b7a5f",
   "metadata": {},
   "outputs": [],
   "source": [
    "import matplotlib.pyplot as plt\n",
    "import os\n",
    "import numpy as np\n",
    "import math\n",
    "import subprocess"
   ]
  },
  {
   "cell_type": "markdown",
   "id": "968626ee",
   "metadata": {},
   "source": [
    "> **Note:** This cell below is optional.  \n",
    "> The bash script often printed extra comments, which cluttered the output.  \n",
    "> Running this cell simply helps keep the output cleaner."
   ]
  },
  {
   "cell_type": "code",
   "execution_count": 11,
   "id": "47482cce-0118-4957-a9f8-315f7bb5be02",
   "metadata": {},
   "outputs": [
    {
     "name": "stdout",
     "output_type": "stream",
     "text": [
      "✅ Cleaned exported bash functions. Subshells will be quiet now.\n"
     ]
    }
   ],
   "source": [
    "import os\n",
    "\n",
    "# Strip out the exported bash functions that break Jupyter subshells\n",
    "for key in list(os.environ):\n",
    "    if key.startswith(\"BASH_FUNC_\"):\n",
    "        del os.environ[key]\n",
    "\n",
    "print(\"✅ Cleaned exported bash functions. Subshells will be quiet now.\")\n"
   ]
  },
  {
   "cell_type": "markdown",
   "id": "724d35bf",
   "metadata": {},
   "source": [
    "> Sometimes you may want to run code in a different directory than where this `.ipynb` notebook is located.  \n",
    "> The cell below sets the working directory for everything you run after executing it."
   ]
  },
  {
   "cell_type": "code",
   "execution_count": 12,
   "id": "723712a8-6ece-4847-a584-d18e553e95bb",
   "metadata": {},
   "outputs": [
    {
     "name": "stdout",
     "output_type": "stream",
     "text": [
      "/panfs/accrepfs.vampire/data/kojetin_lab/Mithun/Covalent_ligand_redone/Accelerated_aMD_Amber\n"
     ]
    },
    {
     "data": {
      "text/plain": [
       "'/panfs/accrepfs.vampire/data/kojetin_lab/Mithun/Covalent_ligand_redone/Accelerated_aMD_Amber'"
      ]
     },
     "execution_count": 12,
     "metadata": {},
     "output_type": "execute_result"
    }
   ],
   "source": [
    "# set working directory for all future cells\n",
    "os.chdir(\"/panfs/accrepfs.vampire/data/kojetin_lab/Mithun/Covalent_ligand_redone/Accelerated_aMD_Amber\")\n",
    "# and check with bash command pwd - note the exclamation mark at the beginning\n",
    "!pwd\n",
    "# or in python\n",
    "os.getcwd()"
   ]
  },
  {
   "cell_type": "markdown",
   "id": "711c4deb",
   "metadata": {},
   "source": [
    "> **Important:**  \n",
    "> These scripts are tailored for **ACCRE** and load modules available on ACCRE at Vanderbilt University.\n",
    "> \n",
    "> **Option 1 – Adjust for your HPC:**  \n",
    "> Edit the `module load` lines to match the Amber modules you would like to use\n",
    "> **Option 2 – Source Amber.sh:**  \n",
    "> If your cluster doesn’t use modules, remove those lines and source the AMBER environment , e.g.:\n",
    "> ```bash\n",
    "> source /sb/apps/amber22/amber.sh\n",
    "> ```\n",
    "> This ensures the correct AMBER version is used on any cluster.\n"
   ]
  },
  {
   "cell_type": "code",
   "execution_count": 13,
   "id": "464fda2a-eda0-4b17-88f0-c0efae0b41f3",
   "metadata": {},
   "outputs": [],
   "source": [
    "import os, subprocess\n",
    "\n",
    "def load_amber_env():\n",
    "    \"\"\"Load AmberTools + Amber environment into the Jupyter kernel.\"\"\"\n",
    "    bash_cmd = \"\"\"\n",
    "    module purge\n",
    "    module load StdEnvACCRE/2023\n",
    "    module load gcc/12.3 openmpi/4.1.5 cuda/12.2\n",
    "    module load ambertools/25.0\n",
    "    module load scipy-stack/2025a\n",
    "    module load amber/24\n",
    "    env\n",
    "    \"\"\"\n",
    "    env_output = subprocess.check_output([\"bash\", \"-c\", bash_cmd], text=True)\n",
    "    for line in env_output.splitlines():\n",
    "        if \"=\" in line:\n",
    "            k, v = line.split(\"=\", 1)\n",
    "            os.environ[k] = v\n",
    "    print(\"✅ Amber environment loaded into Jupyter kernel.\")\n"
   ]
  },
  {
   "cell_type": "markdown",
   "id": "77ec3313",
   "metadata": {},
   "source": [
    "> Run the next cell to load the **AmberTools + Amber environment** into your Jupyter kernel.  \n",
    "> This ensures all subsequent commands use the correct modules and environment variables.\n"
   ]
  },
  {
   "cell_type": "code",
   "execution_count": 14,
   "id": "702a56bb-7288-43fe-bc6a-151d9c556856",
   "metadata": {
    "scrolled": true
   },
   "outputs": [
    {
     "name": "stderr",
     "output_type": "stream",
     "text": [
      "The following modules were not unloaded:\n",
      "  (Use \"module --force purge\" to unload all):\n",
      "\n",
      "  1) CCconfig        6)  ucx/1.14.1         11) flexiblas/3.3.1\n",
      "  2) gentoo/2023     7)  libfabric/1.18.0   12) imkl/2023.2.0\n",
      "  3) gcccore/.12.3   8)  pmix/4.2.4         13) StdEnvACCRE/2023\n",
      "  4) gcc/12.3        9)  ucc/1.2.0\n",
      "  5) hwloc/2.9.1     10) openmpi/4.1.5\n",
      "Lmod Warning:\n",
      "-------------------------------------------------------------------------------\n",
      "The following dependent module(s) are not currently loaded: scipy-stack/2023b\n",
      "(required by: plumed/2.9.0, ambertools/25.0)\n",
      "-------------------------------------------------------------------------------\n",
      "\n",
      "\n",
      "\n",
      "\n",
      "The following have been reloaded with a version change:\n",
      "  1) ipykernel/2023b => ipykernel/2025a\n",
      "  2) scipy-stack/2023b => scipy-stack/2025a\n",
      "\n"
     ]
    },
    {
     "name": "stdout",
     "output_type": "stream",
     "text": [
      "✅ Amber environment loaded into Jupyter kernel.\n"
     ]
    },
    {
     "name": "stderr",
     "output_type": "stream",
     "text": [
      "Lmod Warning:\n",
      "-------------------------------------------------------------------------------\n",
      "The following dependent module(s) are not currently loaded: scipy-stack/2025a\n",
      "(required by: amber/24)\n",
      "-------------------------------------------------------------------------------\n",
      "\n",
      "\n",
      "\n",
      "\n",
      "Inactive Modules:\n",
      "  1) arrayfire/3.9.0     2) cudnn/8.9.5.29     3) glfw/3.3.8     4) spdlog/1.11.0\n",
      "\n",
      "Due to MODULEPATH changes, the following have been reloaded:\n",
      "  1) ambertools/25.0     2) plumed/2.9.0     3) ucc-cuda/1.2.0     4) ucx-cuda/1.14.1\n",
      "\n",
      "The following have been reloaded with a version change:\n",
      "  1) cuda/12.2 => cuda/12.6\n",
      "  2) cudacore/.12.2.2 => cudacore/.12.6.2\n",
      "  3) ipykernel/2025a => ipykernel/2023b\n",
      "  4) nccl/2.18.3 => nccl/2.26.2\n",
      "  5) scipy-stack/2025a => scipy-stack/2023b\n",
      "\n"
     ]
    }
   ],
   "source": [
    "load_amber_env()"
   ]
  },
  {
   "cell_type": "markdown",
   "id": "63bf3f3d",
   "metadata": {},
   "source": [
    "## 📊 Compute Average Total Potential & Dihedral Energy for aMD\n",
    "\n",
    "This step computes the **average total potential energy** and the **average torsional (dihedral) energy** from a conventional MD trajectory.  \n",
    "These values will be used to set **aMD boost parameters** (`EthreshP`, `alphaP`, `EthreshD`, `alphaD`), which bias the system to escape local minima and explore a broader conformational landscape.\n",
    "\n",
    "---\n",
    "\n",
    "### 🧩 Prerequisites\n",
    "This assumes that:\n",
    "- You have already completed **at least one** of the standard runs in this repository:\n",
    "  - `Amber_Covalent_Run`  \n",
    "  - `Amber_Apo_Protein_Run`  \n",
    "  - `Amber_Noncovalent_Run`\n",
    "\n",
    "---\n",
    "\n",
    "### 🗂️ Directory Setup\n",
    "This script will create a folder named `aMD_params` **inside the parent directory** of the selected simulation. The important part is the file structure from runs above.  \n",
    "It uses the **first 100 ns** of the production run for energy averaging, but if you have a longer simulation (e.g., 1 μs),  \n",
    "it is recommended to use more data to get better statistics for the energy thresholds."
   ]
  },
  {
   "cell_type": "code",
   "execution_count": 15,
   "id": "299dc944-c8d9-44b1-ad01-ba79efff6189",
   "metadata": {
    "scrolled": true
   },
   "outputs": [
    {
     "name": "stdout",
     "output_type": "stream",
     "text": [
      "/bin/bash: ml: line 1: syntax error: unexpected end of file\n",
      "/bin/bash: error importing function definition for `ml'\n",
      "/bin/bash: module: line 1: syntax error: unexpected end of file\n",
      "/bin/bash: error importing function definition for `module'\n",
      "mkdir: cannot create directory ‘aMD_params’: File exists\n",
      "/panfs/accrepfs.vampire/data/kojetin_lab/Mithun/Covalent_ligand_redone/Accelerated_aMD_Amber/aMD_params\n",
      "/bin/bash: ml: line 1: syntax error: unexpected end of file\n",
      "/bin/bash: error importing function definition for `ml'\n",
      "/bin/bash: module: line 1: syntax error: unexpected end of file\n",
      "/bin/bash: error importing function definition for `module'\n",
      "Processing sander output file (../../Production/rep1/PTR_001.out)...\n"
     ]
    },
    {
     "name": "stderr",
     "output_type": "stream",
     "text": [
      "/cvmfs/soft.computecanada.ca/easybuild/software/2023/x86-64-v3/Compiler/gcccore/ipykernel/2025a/lib/python3.12/site-packages/IPython/core/magics/osm.py:417: UserWarning: This is now an optional IPython functionality, setting dhist requires you to install the `pickleshare` library.\n",
      "  self.shell.db['dhist'] = compress_dhist(dhist)[-100:]\n"
     ]
    },
    {
     "name": "stdout",
     "output_type": "stream",
     "text": [
      "Starting output...\n",
      "Outputing summary.TEMP\n",
      "Outputing summary_avg.TEMP\n",
      "Outputing summary_rms.TEMP\n",
      "Outputing summary.TSOLUTE\n",
      "Outputing summary_avg.TSOLUTE\n",
      "Outputing summary_rms.TSOLUTE\n",
      "Outputing summary.TSOLVENT\n",
      "Outputing summary_avg.TSOLVENT\n",
      "Outputing summary_rms.TSOLVENT\n",
      "Outputing summary.PRES\n",
      "Outputing summary_avg.PRES\n",
      "Outputing summary_rms.PRES\n",
      "Outputing summary.EKCMT\n",
      "Outputing summary_avg.EKCMT\n",
      "Outputing summary_rms.EKCMT\n",
      "Outputing summary.ETOT\n",
      "Outputing summary_avg.ETOT\n",
      "Outputing summary_rms.ETOT\n",
      "Outputing summary.EKTOT\n",
      "Outputing summary_avg.EKTOT\n",
      "Outputing summary_rms.EKTOT\n",
      "Outputing summary.EPTOT\n",
      "Outputing summary_avg.EPTOT\n",
      "Outputing summary_rms.EPTOT\n",
      "Outputing summary.DENSITY\n",
      "Outputing summary_avg.DENSITY\n",
      "Outputing summary_rms.DENSITY\n",
      "Outputing summary.VOLUME\n",
      "Outputing summary_avg.VOLUME\n",
      "Outputing summary_rms.VOLUME\n",
      "Outputing summary.ESCF\n",
      "Outputing summary_avg.ESCF\n",
      "Outputing summary_rms.ESCF\n"
     ]
    }
   ],
   "source": [
    "#Compute average total potential energy and torsional (dihedral) energy\n",
    "!mkdir aMD_params\n",
    "%cd aMD_params\n",
    "!process_mdout.perl ../../Production/rep1/PTR_001.out"
   ]
  },
  {
   "cell_type": "markdown",
   "id": "1b3f10df",
   "metadata": {},
   "source": [
    "### 🧮 Dihedral Energy Extraction\n",
    "\n",
    "This step creates a `cpptraj` input file (`get_dihed.in`) that loads the topology (prepinHMR.prmtop),  \n",
    "reads the production trajectory (sampling every 10th frame), and extracts **only the dihedral energy term**.  \n",
    "The output (`dihed.dat`) will later be used to compute the **average dihedral energy**  \n",
    "for setting `EthreshD` and `alphaD` in aMD.\n"
   ]
  },
  {
   "cell_type": "code",
   "execution_count": 18,
   "id": "4a7b2f2d-511c-4bab-832b-8bbb12825dd4",
   "metadata": {
    "scrolled": true
   },
   "outputs": [
    {
     "name": "stderr",
     "output_type": "stream",
     "text": [
      "bash: ml: line 1: syntax error: unexpected end of file\n",
      "bash: error importing function definition for `ml'\n",
      "bash: module: line 1: syntax error: unexpected end of file\n",
      "bash: error importing function definition for `module'\n"
     ]
    },
    {
     "name": "stdout",
     "output_type": "stream",
     "text": [
      "✅ get_dihed.in file written (reading every 10th frame, dihedral term only).\n",
      "\n",
      "CPPTRAJ: Trajectory Analysis. V6.29.13 (AmberTools) OpenMP\n",
      "    ___  ___  ___  ___\n",
      "     | \\/ | \\/ | \\/ | \n",
      "    _|_/\\_|_/\\_|_/\\_|_\n",
      "\n",
      "| 4 OpenMP threads available.\n",
      "| Date/time: 09/15/25 03:48:20\n",
      "| Available memory: 216.206 GB\n",
      "\n",
      "INPUT: Reading input from 'get_dihed.in'\n",
      "  [parm ../../Minimization/prepinHMR.prmtop]\n",
      "\tReading '../../Minimization/prepinHMR.prmtop' as Amber Topology\n",
      "\tRadius Set: modified Bondi radii (mbondi)\n",
      "  [trajin ../../Production/rep1/md_prod1_001.nc 1 last 10]\n",
      "\tReading '../../Production/rep1/md_prod1_001.nc' as Amber NetCDF\n",
      "  [energy dihedral out dihed.dat]\n",
      "    ENERGY: Calculating energy for atoms in mask '*'\n",
      "\tCalculating terms: 'Dihedrals'\n",
      "---------- RUN BEGIN -------------------------------------------------\n",
      "\n",
      "PARAMETER FILES (1 total):\n",
      " 0: prepinHMR.prmtop, 45940 atoms, 14087 res, box: Truncated octahedron, 13813 mol, 13808 solvent\n",
      "\n",
      "INPUT TRAJECTORIES (1 total):\n",
      " 0: 'md_prod1_001.nc' is a NetCDF (NetCDF3) AMBER trajectory with coordinates, time, box, Parm prepinHMR.prmtop (Truncated octahedron box) (reading 1000 of 10000)\n",
      "  Coordinate processing will occur on 1000 frames.\n",
      "\n",
      "BEGIN TRAJECTORY PROCESSING:\n",
      ".....................................................\n",
      "ACTION SETUP FOR PARM 'prepinHMR.prmtop' (1 actions):\n",
      "  0: [energy dihedral out dihed.dat]\n",
      "\tMask [*] corresponds to 45940 atoms.\n",
      "----- md_prod1_001.nc (1-10000, 10) -----\n",
      " 0% 10% 20% 30% 40% 50% 60% 70% 80% 90% 100% Complete.\n",
      "\n",
      "Read 1000 frames and processed 1000 frames.\n",
      "TIME: Avg. throughput= 20.3550 frames / second.\n",
      "\n",
      "ACTION OUTPUT:\n",
      "Timing for energy: 'ENE_00001' ('*')\n",
      "TIME: Total: 1.9235 s\n",
      "TIME:\tTORSION     : 1.9227 s ( 99.96%)\n",
      "TIME: Analyses took 0.0000 seconds.\n",
      "\n",
      "DATASETS (1 total):\n",
      "\tENE_00001[dih] \"ENE_00001[dih]\" (double), size is 1000 (8.000 kB)\n",
      "    Total data set memory usage is at least 8.000 kB\n",
      "\n",
      "DATAFILES (1 total):\n",
      "  dihed.dat (Standard Data File):  ENE_00001[dih]\n",
      "\n",
      "RUN TIMING:\n",
      "TIME:\t\tInit               : 0.0000 s (  0.00%)\n",
      "TIME:\t\tTrajectory Process : 49.1280 s ( 99.97%)\n",
      "TIME:\t\tAction Post        : 0.0000 s (  0.00%)\n",
      "TIME:\t\tAnalysis           : 0.0000 s (  0.00%)\n",
      "TIME:\t\tData File Write    : 0.0140 s (  0.03%)\n",
      "TIME:\t\tOther              : 0.0000 s (  0.00%)\n",
      "TIME:\tRun Total 49.1420 s\n",
      "---------- RUN END ---------------------------------------------------\n",
      "TIME: Total execution time: 49.2132 seconds.\n",
      "--------------------------------------------------------------------------------\n",
      "To cite CPPTRAJ use:\n",
      "Daniel R. Roe and Thomas E. Cheatham, III, \"PTRAJ and CPPTRAJ: Software for\n",
      "  Processing and Analysis of Molecular Dynamics Trajectory Data\". J. Chem.\n",
      "  Theory Comput., 2013, 9 (7), pp 3084-3095.\n",
      "\n"
     ]
    }
   ],
   "source": [
    "%%bash\n",
    "cat > get_dihed.in <<EOF\n",
    "parm ../../Minimization/prepinHMR.prmtop\n",
    "trajin ../../Production/rep1/md_prod1_001.nc 1 last 10\n",
    "energy dihedral out dihed.dat\n",
    "EOF\n",
    "\n",
    "echo \"✅ get_dihed.in file written (reading every 10th frame, dihedral term only).\"\n",
    "\n",
    "export OMP_NUM_THREADS=4\n",
    "cpptraj -i get_dihed.in"
   ]
  },
  {
   "cell_type": "markdown",
   "id": "ed27b9fe",
   "metadata": {},
   "source": [
    "### 📊 Compute Average Energies\n",
    "\n",
    "Here we calculate:\n",
    "- **Average Dihedral Energy** – extracted from the `dihed.dat` file (only the dihedral term is used).\n",
    "- **Average Total Potential Energy** – read from the `summary_avg.EPTOT` file generated earlier.\n",
    "\n",
    "These averages are required to determine the `EthreshD` and `EthreshP` parameters for aMD.\n"
   ]
  },
  {
   "cell_type": "code",
   "execution_count": 22,
   "id": "59e2cf3d-940d-44fb-adef-2e1d49ffb5c0",
   "metadata": {},
   "outputs": [
    {
     "name": "stdout",
     "output_type": "stream",
     "text": [
      "/bin/bash: ml: line 1: syntax error: unexpected end of file\n",
      "/bin/bash: error importing function definition for `ml'\n",
      "/bin/bash: module: line 1: syntax error: unexpected end of file\n",
      "/bin/bash: error importing function definition for `module'\n",
      "Average dihedral energy = 3598.75 kcal/mol\n",
      "/bin/bash: ml: line 1: syntax error: unexpected end of file\n",
      "/bin/bash: error importing function definition for `ml'\n",
      "/bin/bash: module: line 1: syntax error: unexpected end of file\n",
      "/bin/bash: error importing function definition for `module'\n",
      "EthreshP: E(tot)=   100000.000     -135987.7125\n"
     ]
    }
   ],
   "source": [
    "#Your dihed.dat file contains all energy components per frame — \n",
    "#but for aMD we only want the dihedral term, which is the DIHED[dih] column (the third numeric column).\n",
    "\n",
    "#Get Average Dihedral Energy\n",
    "!grep -v \"#\" dihed.dat | awk '{s+=$2; n++} END{print \"Average dihedral energy =\", s/n, \"kcal/mol\"}'\n",
    "!echo -n \"EthreshP: E(tot)= \"; cat summary_avg.EPTOT"
   ]
  },
  {
   "cell_type": "code",
   "execution_count": 23,
   "id": "46f6d393-1c23-4990-bbee-d0a0c65c9681",
   "metadata": {
    "scrolled": true
   },
   "outputs": [
    {
     "name": "stderr",
     "output_type": "stream",
     "text": [
      "bash: ml: line 1: syntax error: unexpected end of file\n",
      "bash: error importing function definition for `ml'\n",
      "bash: module: line 1: syntax error: unexpected end of file\n",
      "bash: error importing function definition for `module'\n"
     ]
    },
    {
     "name": "stdout",
     "output_type": "stream",
     "text": [
      "\n",
      "CPPTRAJ: Trajectory Analysis. V6.29.13 (AmberTools) OpenMP\n",
      "    ___  ___  ___  ___\n",
      "     | \\/ | \\/ | \\/ | \n",
      "    _|_/\\_|_/\\_|_/\\_|_\n",
      "\n",
      "| 2 OpenMP threads available.\n",
      "| Date/time: 09/15/25 03:53:29\n",
      "| Available memory: 210.722 GB\n",
      "\n",
      "\tReading '../../Minimization/prepinHMR.prmtop' as Amber Topology\n",
      "\tRadius Set: modified Bondi radii (mbondi)\n",
      "INPUT: Reading input from 'STDIN'\n",
      "  [parminfo]\n",
      "\tTopology prepinHMR.prmtop contains 45940 atoms.\n",
      "\t\tTitle: default_name\n",
      "\t\tOriginal filename: ../../Minimization/prepinHMR.prmtop\n",
      "\t\t14087 residues.\n",
      "\t\t13813 molecules.\n",
      "\t\t45977 bonds (43708 to H, 2269 other).\n",
      "\t\t8288 angles (5227 with H, 3061 other).\n",
      "\t\t20111 dihedrals (10288 with H, 9823 other).\n",
      "\t\tBox: Truncated octahedron\n",
      "\t\t13808 solvent molecules.\n",
      "\t\tGB radii set: modified Bondi radii (mbondi)\n",
      "\t\tNon-bonded parameters are present.\n",
      "TIME: Total execution time: 0.0541 seconds.\n",
      "--------------------------------------------------------------------------------\n",
      "To cite CPPTRAJ use:\n",
      "Daniel R. Roe and Thomas E. Cheatham, III, \"PTRAJ and CPPTRAJ: Software for\n",
      "  Processing and Analysis of Molecular Dynamics Trajectory Data\". J. Chem.\n",
      "  Theory Comput., 2013, 9 (7), pp 3084-3095.\n",
      "\n"
     ]
    }
   ],
   "source": [
    "%%bash\n",
    "cpptraj -p ../../Minimization/prepinHMR.prmtop <<EOF\n",
    "parminfo\n",
    "EOF"
   ]
  },
  {
   "cell_type": "markdown",
   "id": "07b4d4f9",
   "metadata": {},
   "source": [
    "### 🧮 aMD Parameter Report Generator (Python)\n",
    "\n",
    "This Python script interactively calculates the four key **aMD parameters**:\n",
    "\n",
    "- **EthreshP** – Total potential energy threshold  \n",
    "- **alphaP** – Boost factor for total potential  \n",
    "- **EthreshD** – Dihedral energy threshold  \n",
    "- **alphaD** – Boost factor for dihedral energy  \n",
    "\n",
    "You will be prompted to enter:\n",
    "- Average total potential energy (`E_tot`) : check 'Compute Average Energies' output abiove for values\n",
    "- Total number of atoms in the system (`M`) : in the 'last cell Topology prepinHMR.prmtop contains 45940 atoms'\n",
    "- Average dihedral energy (`E_dih`) :   check 'Compute Average Energies' output abiove for values\n",
    "- Number of protein residues (`Nres`)   : check your PDB file, if you have a ligand include that too as a residue \n",
    "\n",
    "The script then applies the standard formulas (as described in the AMBER tutorial)  \n",
    "to compute and display the aMD parameters needed for your input file.\n",
    "\n",
    "> 📖 **Reference:** For detailed explanation of these equations and parameter choices,  \n",
    "> see the official AMBER tutorial: [aMD Section 2](https://ambermd.org/tutorials/advanced/tutorial22/section2.php)\n"
   ]
  },
  {
   "cell_type": "code",
   "execution_count": 24,
   "id": "961e5025-3697-4a78-aa30-0166868bed56",
   "metadata": {},
   "outputs": [
    {
     "name": "stdout",
     "output_type": "stream",
     "text": [
      "Enter average total potential energy (E_tot) [kcal/mol]:  -135987.7125\n",
      "Enter total number of atoms in system (M):  45940\n",
      "Enter average dihedral energy (E_dih) [kcal/mol]:  3598.75\n",
      "Enter number of protein residues (Nres):  275\n"
     ]
    },
    {
     "name": "stdout",
     "output_type": "stream",
     "text": [
      "\n",
      "=== aMD Parameter Calculation ===\n",
      "a) EthreshP: E(tot)= -135988 kcal mol-1 + (0.16kcal*mol-1 atom-1 * 45940 atoms) = -128637 kcal mol-1\n",
      "\n",
      "b) alphaP: Alpha(tot)= (0.16kcal mol-1 atom-1 * 45940 atoms) = 7350.4 kcal mol-1\n",
      "\n",
      "c) EthreshD: E(dih)=3599 kcal mol-1 + (4kcal mol-1 residue-1 * 275 solute residues) = 4699 kcal mol-1\n",
      "\n",
      "d) alphaD: Alpha(dih)=(1/5)*(4kcal mol-1 residues-1 * 275 solute residues) = 220.0 kcal mol-1\n"
     ]
    }
   ],
   "source": [
    "# aMD Parameter Report Generator (Python version)\n",
    "ETOT = float(input(\"Enter average total potential energy (E_tot) [kcal/mol]: \"))\n",
    "M = int(input(\"Enter total number of atoms in system (M): \"))\n",
    "EDIH = float(input(\"Enter average dihedral energy (E_dih) [kcal/mol]: \"))\n",
    "NRES = int(input(\"Enter number of protein residues (Nres): \"))\n",
    "\n",
    "ALPHAP = 0.16 * M\n",
    "ETHRESHP = ETOT + ALPHAP\n",
    "ETHRESHD = EDIH + 4 * NRES\n",
    "ALPHAD = (4 * NRES) / 5\n",
    "\n",
    "print(\"\\n=== aMD Parameter Calculation ===\")\n",
    "print(f\"a) EthreshP: E(tot)= {ETOT:.0f} kcal mol-1 + (0.16kcal*mol-1 atom-1 * {M} atoms) = {ETHRESHP:.0f} kcal mol-1\\n\")\n",
    "print(f\"b) alphaP: Alpha(tot)= (0.16kcal mol-1 atom-1 * {M} atoms) = {ALPHAP:.1f} kcal mol-1\\n\")\n",
    "print(f\"c) EthreshD: E(dih)={EDIH:.0f} kcal mol-1 + (4kcal mol-1 residue-1 * {NRES} solute residues) = {ETHRESHD:.0f} kcal mol-1\\n\")\n",
    "print(f\"d) alphaD: Alpha(dih)=(1/5)*(4kcal mol-1 residues-1 * {NRES} solute residues) = {ALPHAD:.1f} kcal mol-1\")\n"
   ]
  },
  {
   "cell_type": "markdown",
   "id": "42ef4de4",
   "metadata": {},
   "source": [
    "Create 'Production' sub-folder and run simulations there "
   ]
  },
  {
   "cell_type": "code",
   "execution_count": 32,
   "id": "a1b60e2b-9b54-41e9-b9c4-95ae6d8fc47f",
   "metadata": {},
   "outputs": [
    {
     "name": "stdout",
     "output_type": "stream",
     "text": [
      "/panfs/accrepfs.vampire/data/kojetin_lab/Mithun/Covalent_ligand_redone/Accelerated_aMD_Amber\n",
      "/bin/bash: ml: line 1: syntax error: unexpected end of file\n",
      "/bin/bash: error importing function definition for `ml'\n",
      "/bin/bash: module: line 1: syntax error: unexpected end of file\n",
      "/bin/bash: error importing function definition for `module'\n",
      "/panfs/accrepfs.vampire/data/kojetin_lab/Mithun/Covalent_ligand_redone/Accelerated_aMD_Amber/Production_aMD\n"
     ]
    }
   ],
   "source": [
    "%cd ../\n",
    "!mkdir Production_aMD\n",
    "%cd Production_aMD"
   ]
  },
  {
   "cell_type": "markdown",
   "id": "d1cbda95",
   "metadata": {},
   "source": [
    "### 🔧 aMD Input File Changes\n",
    "\n",
    "- Used a smaller timestep: `dt = 0.002` (2 fs) instead of the usual 4 fs  \n",
    "  → 4 fs caused crashes in early aMD steps.  \n",
    "- `nstlim = 50000000` → total 100 ns  \n",
    "- Output frequencies: `ntwx = 5000`, `ntpr = 10000`, `ntwr = 500000`  \n",
    "- Added aMD boost parameters:\n",
    "iamd=3,\n",
    "ethreshd={ETHRESHD}, alphad={ALPHAD},\n",
    "ethreshp={ETHRESHP}, alphap={ALPHAP},\n",
    "\n",
    "- Two files are generated after executing the next 2 cells:  \n",
    "- **`prod1.in.start`** → used for the **first 100 ns run**  \n",
    "- **`prod1.in`** → used by the **plumed driver** to continue 100 ns chunks until reaching 1 μs"
   ]
  },
  {
   "cell_type": "code",
   "execution_count": 56,
   "id": "28fc7fcf-f52f-432a-acd2-fc89c9a23109",
   "metadata": {},
   "outputs": [
    {
     "name": "stdout",
     "output_type": "stream",
     "text": [
      "✅ prod1.in.start file written successfully:\n",
      "========================================\n",
      " MD explicit solvent heavy atom no rest shake dt 0.002 total is 100 nanoseconds\n",
      " &cntrl\n",
      "  imin = 0, nstlim = 50000000, dt=0.002,\n",
      "  ntx = 1, irest = 0,\n",
      "  ntwx = 5000, ioutfm = 1, ntxo = 2, ntpr = 10000, ntwr = 500000,\n",
      "  iwrap = 1, nscm = 1000,\n",
      "  ntc = 2, ntf = 2, ntb = 2, cut = 8.0,\n",
      "  ntt = 3, ig = -1, gamma_ln = 3, temp0 = 310, tempi = 310,\n",
      "  ntp = 1, taup = 2.0, barostat = 2,\n",
      "  igb = 0, saltcon = 0.0,\n",
      "  ntr = 0,\n",
      "  iamd=3,\n",
      "  ethreshd=4698.75, alphad=220.0,\n",
      "  ethreshp=-128637.3125, alphap=7350.400000000001,\n",
      " /\n",
      "\n"
     ]
    }
   ],
   "source": [
    "# Note that Ive changed dt to 0.002 and nstlim = 50000000; total time = 100ns still. Did this since 0.004 was unstable with aMD\n",
    "#changed ntwx = 5000 (prints co-ordinates every 10ps, ntpr = 10000 - writes energy every 20ps and ntwr = 500000 - writes restart file every 1ns\n",
    "\n",
    "amd_content = f\"\"\" MD explicit solvent heavy atom no rest shake dt 0.002 total is 100 nanoseconds\n",
    " &cntrl\n",
    "  imin = 0, nstlim = 50000000, dt=0.002,\n",
    "  ntx = 1, irest = 0,\n",
    "  ntwx = 5000, ioutfm = 1, ntxo = 2, ntpr = 10000, ntwr = 500000,\n",
    "  iwrap = 1, nscm = 1000,\n",
    "  ntc = 2, ntf = 2, ntb = 2, cut = 8.0,\n",
    "  ntt = 3, ig = -1, gamma_ln = 3, temp0 = 310, tempi = 310,\n",
    "  ntp = 1, taup = 2.0, barostat = 2,\n",
    "  igb = 0, saltcon = 0.0,\n",
    "  ntr = 0,\n",
    "  iamd=3,\n",
    "  ethreshd={ETHRESHD}, alphad={ALPHAD},\n",
    "  ethreshp={ETHRESHP}, alphap={ALPHAP},\n",
    " /\n",
    "\"\"\"\n",
    "\n",
    "with open(\"prod1.in.start\", \"w\") as f:\n",
    "    f.write(amd_content)\n",
    "\n",
    "print(\"✅ prod1.in.start file written successfully:\")\n",
    "print(\"=\"*40)\n",
    "print(amd_content)\n"
   ]
  },
  {
   "cell_type": "code",
   "execution_count": 57,
   "id": "1c65be7a-f4ff-4371-a314-28c872d1f8b8",
   "metadata": {},
   "outputs": [
    {
     "name": "stdout",
     "output_type": "stream",
     "text": [
      "✅ prod1.in file written successfully:\n",
      "========================================\n",
      " MD explicit solvent heavy atom no rest shake dt 0.002 total is 100 nanoseconds\n",
      " &cntrl\n",
      "  imin = 0, nstlim = 50000000, dt=0.002,\n",
      "  ntx = 5, irest = 1,\n",
      "  ntwx = 5000, ioutfm = 1, ntxo = 2, ntpr = 10000, ntwr = 500000,\n",
      "  iwrap = 1, nscm = 1000,\n",
      "  ntc = 2, ntf = 2, ntb = 2, cut = 8.0,\n",
      "  ntt = 3, ig = -1, gamma_ln = 3, temp0 = 310, tempi = 310,\n",
      "  ntp = 1, taup = 2.0, barostat = 2,\n",
      "  igb = 0, saltcon = 0.0,\n",
      "  ntr = 0,\n",
      "  iamd=3,\n",
      "  ethreshd=4698.75, alphad=220.0,\n",
      "  ethreshp=-128637.3125, alphap=7350.400000000001,\n",
      " /\n",
      "\n"
     ]
    }
   ],
   "source": [
    "# Note that Ive changed dt to 0.002 and nstlim = 50000000; total time = 100ns still. Did this since 0.004 was unstable with aMD\n",
    "#changed ntwx = 5000 (prints co-ordinates every 10ps, ntpr = 10000 - writes energy every 20ps and ntwr = 500000 - writes restart file every 1ns\n",
    "\n",
    "amd_content = f\"\"\" MD explicit solvent heavy atom no rest shake dt 0.002 total is 100 nanoseconds\n",
    " &cntrl\n",
    "  imin = 0, nstlim = 50000000, dt=0.002,\n",
    "  ntx = 5, irest = 1,\n",
    "  ntwx = 5000, ioutfm = 1, ntxo = 2, ntpr = 10000, ntwr = 500000,\n",
    "  iwrap = 1, nscm = 1000,\n",
    "  ntc = 2, ntf = 2, ntb = 2, cut = 8.0,\n",
    "  ntt = 3, ig = -1, gamma_ln = 3, temp0 = 310, tempi = 310,\n",
    "  ntp = 1, taup = 2.0, barostat = 2,\n",
    "  igb = 0, saltcon = 0.0,\n",
    "  ntr = 0,\n",
    "  iamd=3,\n",
    "  ethreshd={ETHRESHD}, alphad={ALPHAD},\n",
    "  ethreshp={ETHRESHP}, alphap={ALPHAP},\n",
    " /\n",
    "\"\"\"\n",
    "\n",
    "with open(\"prod1.in\", \"w\") as f:\n",
    "    f.write(amd_content)\n",
    "\n",
    "print(\"✅ prod1.in file written successfully:\")\n",
    "print(\"=\"*40)\n",
    "print(amd_content)\n"
   ]
  },
  {
   "cell_type": "markdown",
   "id": "c7b4d3e2",
   "metadata": {},
   "source": [
    "Sanity check to see if it works "
   ]
  },
  {
   "cell_type": "code",
   "execution_count": 50,
   "id": "dc8b2b00-f762-452c-b584-f0fea5f7ad5a",
   "metadata": {},
   "outputs": [
    {
     "name": "stdout",
     "output_type": "stream",
     "text": [
      "/bin/bash: ml: line 1: syntax error: unexpected end of file\n",
      "/bin/bash: error importing function definition for `ml'\n",
      "/bin/bash: module: line 1: syntax error: unexpected end of file\n",
      "/bin/bash: error importing function definition for `module'\n",
      "^C\n"
     ]
    }
   ],
   "source": [
    "#Testing to see if it works \n",
    "!pmemd.cuda -O -i prod1.in.start -c ../../Minimization/step9.rst7 -p ../../Minimization/prepinHMR.prmtop -o PTR_001.out -x md_prod1_001.nc -r md_prod1_001.rst -inf md_prod1.mdinfo"
   ]
  },
  {
   "cell_type": "markdown",
   "id": "00639c36",
   "metadata": {},
   "source": [
    "**Write production.pl file**"
   ]
  },
  {
   "cell_type": "code",
   "execution_count": null,
   "id": "8faab306-4364-4e70-b5f2-fe94f97755be",
   "metadata": {},
   "outputs": [],
   "source": [
    "%%bash\n",
    "cat > production.pl <<'EOF'\n",
    "#!/usr/bin/perl -w\n",
    "\n",
    "#This program is a generalized method for computing a multiple nanosecond MD trajectory \n",
    "\n",
    "##########################################################################################\n",
    "#THE FOUR VARIABLES BELOW WILL NEED TO BE CHANGED TO REFLECT THE DETAILS OF THE SIMULATION\n",
    "\n",
    "$probase = \"md_prod1\";                     # Output basename for production MD period\n",
    "\n",
    "$prodin = \"prod1.in\";\t\t        # Name of sander.in file for production MD\n",
    "$prodstart = \"prod1.in.start\";\t\t# Name of sander.in file for production MD\n",
    "\n",
    "$nstart = 1;                          # MD block to start with; \n",
    "                                       #   if 1, starts a new run\n",
    "                                       #   if some other number, starts a at that block\n",
    "                                       #   NOTE: assumes previous restart file is present\n",
    "                                       \n",
    "\n",
    "$nend = 10;                  # Number of production MD runs ($max * 100 = ns)\n",
    "#$number_of_runs = 15;                  # Number of production MD runs ($max * 100 = ns)\n",
    "                                       #   runs are performed in 100 ns blocks\n",
    "                                       #   so for $max = 10, (10 * 100 = 1000 ns total)\n",
    "\n",
    "\n",
    "##########################################################################################\n",
    "#INPUT FILES; relative paths to minimized files\n",
    "$start = \"/panfs/accrepfs.vampire/data/kojetin_lab/Mithun/Covalent_ligand_redone/Minimization/step9.rst7\"; # CHANGE TO YOUR PATH\n",
    "$top = \"/panfs/accrepfs.vampire/data/kojetin_lab/Mithun/Covalent_ligand_redone/Minimization/prepinHMR.prmtop\"; # CHANGE TO YOUR PATH\n",
    "\n",
    "#PATH TO THE pmemd.cuda PROGRAM\n",
    "$pmemd = \"pmemd.cuda\";\n",
    "\n",
    "\n",
    "##########################################################################################\n",
    "#Perform production dynamics with conditions set by input file\n",
    "\n",
    "for ($i=$nstart; $i<=$nend; $i++) {\n",
    "        $num = number($i);\n",
    "        #$num = $i;\n",
    "\n",
    "        if ($i == 1) {\n",
    "\t        $xyzin = $start;\n",
    "\t        $produse = $prodstart;\n",
    "\t    } else {\n",
    "\t    \t$tempnum = number($i-1);\n",
    "\t    \t$xyzin = \"${probase}_${tempnum}.rst\";\n",
    "\t    \t$produse = $prodin;\n",
    "\t    } \n",
    "\t    \n",
    "        $out = \"PTR_${num}.out\";\n",
    "        $crd = \"${probase}_${num}.nc\";\n",
    "        $xyz = \"${probase}_${num}.rst\";\n",
    "\n",
    "        $command = \"$pmemd -O -i $produse -c $xyzin -p $top -o $out -x $crd -r $xyz -inf md_prod1.mdinfo\";\n",
    "\tprint(\"$command \\n\");\n",
    "        system($command);\n",
    "}\n",
    "\n",
    "\n",
    "\n",
    "##########################################################################################\n",
    "#a routine to fill in 0's in numbers\n",
    "\n",
    "sub number {\n",
    "        my($i) = @_;\n",
    "        my($num);\n",
    "\n",
    "        if ($i < 10) {\n",
    "            $num = \"00$i\";\n",
    "        } elsif($i < 100) {\n",
    "            $num = \"0$i\";\n",
    "        } else {\n",
    "            $num = $i;\n",
    "        }\n",
    "\n",
    "        return($num);\n",
    "}\n",
    "\n",
    "EOF"
   ]
  },
  {
   "cell_type": "markdown",
   "id": "04a1d5a8",
   "metadata": {},
   "source": [
    "**Submit Job**"
   ]
  },
  {
   "cell_type": "code",
   "execution_count": null,
   "id": "9dbe45e0-688f-4317-b060-43c51062f456",
   "metadata": {},
   "outputs": [],
   "source": [
    "%%bash\n",
    "# Write slrum script in the working directory, later submit to ACCRE \n",
    "\n",
    "cat > 6ONI_submit_slurm <<'EOF'\n",
    "#!/bin/bash\n",
    "#SBATCH --job-name=Amber_Apo_6ONI_Run\n",
    "#SBATCH --mail-type=ALL\n",
    "#SBATCH --nodes=1\n",
    "#SBATCH --mem=40G\n",
    "#SBATCH --time=5-00:00:00\n",
    "#SBATCH --partition=batch_gpu\n",
    "#SBATCH --account=csb_gpu_acc\n",
    "#SBATCH --gres=gpu:nvidia_titan_x:1   # request exactly 3 GPUs on this node\n",
    "#SBATCH --output=PPARg_meta_out_%j.log\n",
    "#SBATCH --error=PPARg_meta_err_%j.log\n",
    "\n",
    "module purge\n",
    "module load StdEnvACCRE/2023\n",
    "module load gcc/12.3 openmpi/4.1.5 cuda/12.2\n",
    "module load ambertools/25.0\n",
    "module load scipy-stack/2025a\n",
    "module load amber/24\n",
    "    \n",
    "perl production.pl > PRODUCTION.OUT\n",
    "\n",
    "EOF"
   ]
  }
 ],
 "metadata": {
  "kernelspec": {
   "display_name": "Python 3 (ipykernel)",
   "language": "python",
   "name": "python3"
  },
  "language_info": {
   "codemirror_mode": {
    "name": "ipython",
    "version": 3
   },
   "file_extension": ".py",
   "mimetype": "text/x-python",
   "name": "python",
   "nbconvert_exporter": "python",
   "pygments_lexer": "ipython3",
   "version": "3.12.4"
  }
 },
 "nbformat": 4,
 "nbformat_minor": 5
}
